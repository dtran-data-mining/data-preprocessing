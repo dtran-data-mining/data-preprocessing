{
 "cells": [
  {
   "cell_type": "code",
   "execution_count": 5,
   "id": "a1a147b9",
   "metadata": {},
   "outputs": [],
   "source": [
    "import pandas as pd\n",
    "import matplotlib.pyplot as plt"
   ]
  },
  {
   "cell_type": "code",
   "execution_count": 6,
   "id": "c7163667",
   "metadata": {},
   "outputs": [
    {
     "name": "stdout",
     "output_type": "stream",
     "text": [
      "<class 'pandas.core.frame.DataFrame'>\n",
      "RangeIndex: 5125 entries, 0 to 5124\n",
      "Data columns (total 12 columns):\n",
      " #   Column       Non-Null Count  Dtype  \n",
      "---  ------       --------------  -----  \n",
      " 0   AA           5125 non-null   object \n",
      " 1   E            5125 non-null   object \n",
      " 2   D            5125 non-null   object \n",
      " 3   F            5124 non-null   object \n",
      " 4   CC           5125 non-null   int64  \n",
      " 5   kesEntityId  5125 non-null   int64  \n",
      " 6   W            5125 non-null   object \n",
      " 7   Ti           5125 non-null   object \n",
      " 8   RId          4546 non-null   object \n",
      " 9   logprob      5125 non-null   float64\n",
      " 10  Id           5125 non-null   int64  \n",
      " 11  J            379 non-null    object \n",
      "dtypes: float64(1), int64(3), object(8)\n",
      "memory usage: 480.6+ KB\n",
      "None\n"
     ]
    }
   ],
   "source": [
    "df = pd.read_json('./Microsoft-Academic/layer0_paper.json')\n",
    "print(df.info())"
   ]
  },
  {
   "cell_type": "code",
   "execution_count": 7,
   "metadata": {},
   "outputs": [],
   "source": [
    "partial_df = df[['Id', 'Ti', 'D']].set_index('Id')\n",
    "partial_df.rename(columns={'Ti': 'paper title', 'D': 'publish years'}, inplace=True)"
   ]
  },
  {
   "cell_type": "code",
   "execution_count": 8,
   "metadata": {},
   "outputs": [
    {
     "name": "stdout",
     "output_type": "stream",
     "text": [
      "                                                      authors\n",
      "Id                                                           \n",
      "2173520492            alec radford;luke metz;soumith chintala\n",
      "2131241448          jasper snoek;hugo larochelle;ryan p adams\n",
      "2119144962  song han;huizi mao;william j dally;william j d...\n",
      "2176412452  djorkarne clevert;thomas unterthiner;sepp hoch...\n",
      "2286929393                           fisher yu;vladlen koltun\n",
      "...                                                       ...\n",
      "2772236815             chihyuan yang;sifei liu;minghsuan yang\n",
      "2617634260  yao qin;mengyang feng;huchuan lu;garrison w co...\n",
      "2785057145  loris belcastro;fabrizio marozzo;domenico tali...\n",
      "2024357166       stephen j mckenna;jesse hoey;emanuele trucco\n",
      "2152915516                                    christina unger\n",
      "\n",
      "[5125 rows x 1 columns]\n"
     ]
    }
   ],
   "source": [
    "def stringify_authors(row):\n",
    "    authors_list = [author['AuN'] for author in row['authors']]\n",
    "    row['authors'] = ';'.join(authors_list)\n",
    "    return row\n",
    "\n",
    "authors_df = pd.DataFrame(df['AA'].values.copy(), index=df['Id'], columns=['authors'])\n",
    "authors_df.apply(stringify_authors, axis=1)\n",
    "print(authors_df)"
   ]
  },
  {
   "cell_type": "code",
   "execution_count": 9,
   "metadata": {},
   "outputs": [
    {
     "name": "stdout",
     "output_type": "stream",
     "text": [
      "                                                  paper title publish years  \\\n",
      "paperID                                                                       \n",
      "628035                  mixed membership matrix factorization    2010-01-01   \n",
      "665341      topic correlation analysis for cross domain te...    2012-07-22   \n",
      "1407234                                 multi class leveraged    2010-01-01   \n",
      "1788602     semantic relatedness using salient semantic an...    2011-08-07   \n",
      "2581345     intrinsic image decomposition using structure ...    2014-09-06   \n",
      "...                                                       ...           ...   \n",
      "2885394260  distributed clustering via lsh based data part...    2018-07-03   \n",
      "2886144305  batch is not heavy learning word representatio...    2018-01-01   \n",
      "2887299397                               veracity of big data    2015-10-19   \n",
      "2887432412        recognizing quantity names for tabular data    2018-01-01   \n",
      "2887439430  draco byzantine resilient distributed training...    2018-07-03   \n",
      "\n",
      "                                                      authors  \n",
      "paperID                                                        \n",
      "628035           lester w mackey;david weiss;michael i jordan  \n",
      "665341                lianghao li;xiaoming jin;mingsheng long  \n",
      "1407234     paolo piro;richard nock;frank nielsen;michel b...  \n",
      "1788602                            samer hassan;rada mihalcea  \n",
      "2581345        junho jeon;sunghyun cho;xin tong;seungyong lee  \n",
      "...                                                       ...  \n",
      "2885394260             aditya bhaskara;maheshakya wijewardena  \n",
      "2886144305       xiangnan he;xin xin;fajie yuan;joemon m jose  \n",
      "2887299397          laure bertiequille;javier borgeholthoefer  \n",
      "2887432412     yang yi;zhiyu chen;jeff heflin;brian d davison  \n",
      "2887439430  lingjiao chen;hongyi wang;zachary b charles;di...  \n",
      "\n",
      "[5127 rows x 3 columns]\n"
     ]
    }
   ],
   "source": [
    "out_df = partial_df.join(authors_df)\n",
    "out_df.index.name = 'paperID'\n",
    "print(out_df)"
   ]
  },
  {
   "cell_type": "code",
   "execution_count": 10,
   "metadata": {},
   "outputs": [],
   "source": [
    "out_df.to_csv('out_microsoft.csv')"
   ]
  },
  {
   "cell_type": "code",
   "execution_count": 11,
   "metadata": {},
   "outputs": [],
   "source": [
    "total_author_list = [author_str.split(';') for author_str in authors_df['authors'].values]\n",
    "individual_authors = [author for author_list in total_author_list for author in author_list]\n",
    "\n",
    "individual_authors_df = pd.DataFrame(1, index=individual_authors, columns=['publications'])\n",
    "individual_authors_df.index.name = 'author'"
   ]
  },
  {
   "cell_type": "code",
   "execution_count": 12,
   "metadata": {},
   "outputs": [
    {
     "name": "stdout",
     "output_type": "stream",
     "text": [
      "                 author  publications\n",
      "6211     minghsuan yang            53\n",
      "10268     yoshua bengio            44\n",
      "5404       luc van gool            33\n",
      "9055     trevor darrell            32\n",
      "9655      xiaogang wang            32\n",
      "566    andrew zisserman            27\n",
      "9698        xiaoou tang            26\n",
      "4313     jitendra malik            25\n",
      "4173         jiawei han            24\n",
      "1026      bernt schiele            24\n"
     ]
    }
   ],
   "source": [
    "top_ten_authors = individual_authors_df.groupby('author').count().reset_index().sort_values(\n",
    "    by='publications', ascending=False).head(10)\n",
    "print(top_ten_authors)"
   ]
  },
  {
   "cell_type": "code",
   "execution_count": 13,
   "metadata": {},
   "outputs": [
    {
     "data": {
      "image/png": "[encoded data removed]",
      "text/plain": [
       "<Figure size 432x288 with 1 Axes>"
      ]
     },
     "metadata": {
      "needs_background": "light"
     },
     "output_type": "display_data"
    }
   ],
   "source": [
    "top_ten_authors.plot.bar(x='author', y='publications', rot=90, legend=False)\n",
    "\n",
    "plt.xlabel('Author')\n",
    "plt.ylabel('Publications')\n",
    "plt.show()"
   ]
  }
 ],
 "metadata": {
  "interpreter": {
   "hash": "ba3ba28338c7ed8eb39732539dc718f8de076c4046a666eb68bfb7580163bc13"
  },
  "kernelspec": {
   "display_name": "Python 3.9.7 64-bit ('hw-env': conda)",
   "language": "python",
   "name": "python3"
  },
  "language_info": {
   "codemirror_mode": {
    "name": "ipython",
    "version": 3
   },
   "file_extension": ".py",
   "mimetype": "text/x-python",
   "name": "python",
   "nbconvert_exporter": "python",
   "pygments_lexer": "ipython3",
   "version": "3.8.8"
  },
  "orig_nbformat": 4
 },
 "nbformat": 4,
 "nbformat_minor": 2
}
