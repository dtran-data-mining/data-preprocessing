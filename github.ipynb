{
 "cells": [
  {
   "cell_type": "code",
   "execution_count": 5,
   "id": "a1a147b9",
   "metadata": {},
   "outputs": [],
   "source": [
    "import numpy as np\n",
    "import pandas as pd\n",
    "import matplotlib.pyplot as plt"
   ]
  },
  {
   "cell_type": "code",
   "execution_count": 6,
   "id": "c7163667",
   "metadata": {},
   "outputs": [
    {
     "name": "stdout",
     "output_type": "stream",
     "text": [
      "<class 'pandas.core.frame.DataFrame'>\n",
      "RangeIndex: 1172138 entries, 0 to 1172137\n",
      "Data columns (total 4 columns):\n",
      " #   Column   Non-Null Count    Dtype \n",
      "---  ------   --------------    ----- \n",
      " 0   date     1172138 non-null  object\n",
      " 1   actions  1172138 non-null  object\n",
      " 2   userID   1172138 non-null  object\n",
      " 3   repoID   1172138 non-null  object\n",
      "dtypes: object(4)\n",
      "memory usage: 35.8+ MB\n",
      "None\n"
     ]
    }
   ],
   "source": [
    "df = pd.read_csv('./Github-Data/crypto_github_events.csv')\n",
    "print(df.info())"
   ]
  },
  {
   "cell_type": "code",
   "execution_count": 7,
   "id": "6bab9c02",
   "metadata": {},
   "outputs": [
    {
     "name": "stdout",
     "output_type": "stream",
     "text": [
      "userID\n",
      "K3WbcDlZUBxBfx8Mv-twSg    15593\n",
      "yhHGzBppxhIRhPkWapTLJQ    13211\n",
      "8iDsKCYEfcL4jeGKxNtPQg    13203\n",
      "Li47SClZy_BDxLTc0mN7bQ     9996\n",
      "lAMqEaTXdyY-pgrNTEAFjw     8759\n",
      "oVVUY8Nh5wNqJ0qLROKRkg     7994\n",
      "-Tf7mnYl8kygw0ZctlhfOw     7714\n",
      "Rttu6fe4U29LzyZ8zU9RIQ     7458\n",
      "AIVdQMXja0fmjFk_ejf7ow     7397\n",
      "Qyz97YBv9rf-V3QYWhkSbw     7366\n",
      "Name: actions, dtype: int64\n"
     ]
    }
   ],
   "source": [
    "# rank top 10 users, most actions\n",
    "user_grp = df.groupby('userID')\n",
    "top_ten_users = user_grp['actions'].count().sort_values(ascending=False).head(10)\n",
    "print(top_ten_users)"
   ]
  },
  {
   "cell_type": "code",
   "execution_count": 8,
   "id": "5a8a7335",
   "metadata": {},
   "outputs": [],
   "source": [
    "# set up for monthly volumes\n",
    "df['dt'] = pd.to_datetime(df['date']).dt.strftime('%m/%Y')"
   ]
  },
  {
   "cell_type": "code",
   "execution_count": 9,
   "id": "9b3f1229",
   "metadata": {},
   "outputs": [
    {
     "name": "stdout",
     "output_type": "stream",
     "text": [
      "                        userID       dt  actions\n",
      "0       ---JpGdgzlRLb4Al5cUGTA  07/2017        1\n",
      "1       --25jmD0Md-xL1-bGXHCMA  07/2017        1\n",
      "2       --6mzHIvjkAFrubSerIIhQ  01/2015       57\n",
      "3       --6mzHIvjkAFrubSerIIhQ  01/2016       12\n",
      "4       --6mzHIvjkAFrubSerIIhQ  02/2015       18\n",
      "...                        ...      ...      ...\n",
      "184031  zzrAxIeaf9anR4xl7selVQ  11/2015        1\n",
      "184032  zzuqGNTTVf7E8MfKTeBX3g  07/2016        1\n",
      "184033  zzwCoPKC0khlzCbWi_IMHA  07/2017        2\n",
      "184034  zzwCoPKC0khlzCbWi_IMHA  08/2017        1\n",
      "184035  zzyQvwm7P6mnedudTvx-Hw  10/2016        1\n",
      "\n",
      "[184036 rows x 3 columns]\n"
     ]
    }
   ],
   "source": [
    "time_period = pd.Series(\n",
    "    pd.date_range(\"2015-01-01\", periods=32, freq=\"MS\")\n",
    ").apply(lambda row: row.strftime('%m/%Y'))\n",
    "\n",
    "monthly_actions_df = df.groupby(['userID', 'dt'])[\n",
    "    'actions'].count().reset_index()\n",
    "print(monthly_actions_df)"
   ]
  },
  {
   "cell_type": "code",
   "execution_count": 10,
   "id": "033d66ae",
   "metadata": {},
   "outputs": [
    {
     "name": "stdout",
     "output_type": "stream",
     "text": [
      "                        01/2015  02/2015  03/2015  04/2015  05/2015  06/2015  \\\n",
      "userID                                                                         \n",
      "5Nmia2cw5HiUKpI4Y7QkdQ     35.0     11.0      0.0      3.0      2.0     54.0   \n",
      "_DHICgWntHlPx4gWdGpnRQ      0.0      0.0     34.0      0.0      1.0      0.0   \n",
      "YKzvufnF_N6khw7BOhE8hg      0.0      0.0      0.0      0.0      0.0      0.0   \n",
      "HxIxl_gs5e--6UT_EHq8lw      0.0      0.0      0.0      0.0      0.0      0.0   \n",
      "5oEbT1dj6KcoJuBz966PGg      0.0      0.0      0.0      0.0      0.0      0.0   \n",
      "...                         ...      ...      ...      ...      ...      ...   \n",
      "OEMwqXV03v5P-Tj6ddQjGA      0.0      1.0      0.0      0.0      0.0      0.0   \n",
      "D_oktQK_m98_zagOWmu-SA      0.0      1.0      0.0      0.0      0.0      0.0   \n",
      "vBAhgorJ8lCtdg88ABSgVA      0.0      2.0      0.0      0.0      0.0      0.0   \n",
      "bcm8Vn2lzYQSVktN0dlIig      0.0      1.0      0.0      0.0      0.0      0.0   \n",
      "7bScg5Bi1Q7ed5ezvKzMtA      0.0      1.0      0.0      0.0      0.0      0.0   \n",
      "\n",
      "                        07/2015  08/2015  09/2015  10/2015  ...  11/2016  \\\n",
      "userID                                                      ...            \n",
      "5Nmia2cw5HiUKpI4Y7QkdQ     35.0     11.0      2.0     39.0  ...     41.0   \n",
      "_DHICgWntHlPx4gWdGpnRQ      0.0      0.0      4.0     10.0  ...      0.0   \n",
      "YKzvufnF_N6khw7BOhE8hg      0.0      0.0      0.0      0.0  ...      0.0   \n",
      "HxIxl_gs5e--6UT_EHq8lw      0.0      0.0      0.0      0.0  ...      0.0   \n",
      "5oEbT1dj6KcoJuBz966PGg      0.0      0.0      0.0      0.0  ...      0.0   \n",
      "...                         ...      ...      ...      ...  ...      ...   \n",
      "OEMwqXV03v5P-Tj6ddQjGA      0.0      0.0      0.0      0.0  ...      0.0   \n",
      "D_oktQK_m98_zagOWmu-SA      0.0      0.0      0.0      0.0  ...      0.0   \n",
      "vBAhgorJ8lCtdg88ABSgVA      0.0      0.0      0.0      0.0  ...      0.0   \n",
      "bcm8Vn2lzYQSVktN0dlIig      0.0      0.0      0.0      0.0  ...      0.0   \n",
      "7bScg5Bi1Q7ed5ezvKzMtA      0.0      0.0      0.0      0.0  ...      0.0   \n",
      "\n",
      "                        12/2016  01/2017  02/2017  03/2017  04/2017  05/2017  \\\n",
      "userID                                                                         \n",
      "5Nmia2cw5HiUKpI4Y7QkdQ     54.0     68.0     28.0     43.0     33.0      0.0   \n",
      "_DHICgWntHlPx4gWdGpnRQ      1.0      0.0      0.0      0.0      0.0      0.0   \n",
      "YKzvufnF_N6khw7BOhE8hg      0.0      0.0      0.0      0.0      0.0      0.0   \n",
      "HxIxl_gs5e--6UT_EHq8lw      0.0      0.0      0.0      0.0      0.0      1.0   \n",
      "5oEbT1dj6KcoJuBz966PGg      1.0      0.0      2.0     32.0     23.0    182.0   \n",
      "...                         ...      ...      ...      ...      ...      ...   \n",
      "OEMwqXV03v5P-Tj6ddQjGA      0.0      0.0      0.0      0.0      0.0      0.0   \n",
      "D_oktQK_m98_zagOWmu-SA      0.0      0.0      0.0      0.0      0.0      0.0   \n",
      "vBAhgorJ8lCtdg88ABSgVA      0.0      0.0      0.0      0.0      0.0      0.0   \n",
      "bcm8Vn2lzYQSVktN0dlIig      0.0      0.0      0.0      0.0      0.0      0.0   \n",
      "7bScg5Bi1Q7ed5ezvKzMtA      0.0      0.0      0.0      0.0      0.0      0.0   \n",
      "\n",
      "                        06/2017  07/2017  08/2017  \n",
      "userID                                             \n",
      "5Nmia2cw5HiUKpI4Y7QkdQ     38.0     77.0     74.0  \n",
      "_DHICgWntHlPx4gWdGpnRQ     21.0     30.0     54.0  \n",
      "YKzvufnF_N6khw7BOhE8hg      4.0      0.0      2.0  \n",
      "HxIxl_gs5e--6UT_EHq8lw      2.0      0.0      1.0  \n",
      "5oEbT1dj6KcoJuBz966PGg    248.0    150.0    404.0  \n",
      "...                         ...      ...      ...  \n",
      "OEMwqXV03v5P-Tj6ddQjGA      0.0      0.0      0.0  \n",
      "D_oktQK_m98_zagOWmu-SA      0.0      0.0      0.0  \n",
      "vBAhgorJ8lCtdg88ABSgVA      0.0      0.0      0.0  \n",
      "bcm8Vn2lzYQSVktN0dlIig      0.0      0.0      0.0  \n",
      "7bScg5Bi1Q7ed5ezvKzMtA      0.0      0.0      0.0  \n",
      "\n",
      "[106518 rows x 32 columns]\n"
     ]
    }
   ],
   "source": [
    "def update_monthly_volume(date):\n",
    "    monthly_actions = monthly_actions_df[['userID', 'actions']][monthly_actions_df['dt'] == date]\n",
    "    monthly_actions = monthly_actions.set_index('userID').rename({'actions': date}, axis=1)\n",
    "    monthly_volume_df.update(monthly_actions)\n",
    "\n",
    "monthly_volume_df = pd.DataFrame(\n",
    "    0, columns=time_period, index=df['userID'].unique())\n",
    "np.vectorize(lambda date: update_monthly_volume(date))(time_period)\n",
    "\n",
    "monthly_volume_df.index.name = 'userID'\n",
    "print(monthly_volume_df)"
   ]
  },
  {
   "cell_type": "code",
   "execution_count": 11,
   "id": "7fce7119",
   "metadata": {},
   "outputs": [
    {
     "name": "stdout",
     "output_type": "stream",
     "text": [
      "                        01/2015  02/2015  03/2015  04/2015  05/2015  06/2015  \\\n",
      "userID                                                                         \n",
      "K3WbcDlZUBxBfx8Mv-twSg    526.0    290.0    411.0    338.0    557.0    645.0   \n",
      "yhHGzBppxhIRhPkWapTLJQ    427.0    621.0    399.0    280.0    533.0     78.0   \n",
      "8iDsKCYEfcL4jeGKxNtPQg      0.0      0.0      0.0      0.0      0.0      0.0   \n",
      "Li47SClZy_BDxLTc0mN7bQ    603.0    557.0    395.0    348.0    382.0    581.0   \n",
      "lAMqEaTXdyY-pgrNTEAFjw      0.0      0.0      0.0      0.0      0.0      0.0   \n",
      "oVVUY8Nh5wNqJ0qLROKRkg     71.0    240.0    232.0    273.0    292.0    258.0   \n",
      "-Tf7mnYl8kygw0ZctlhfOw      0.0      5.0      1.0      1.0      4.0      0.0   \n",
      "Rttu6fe4U29LzyZ8zU9RIQ    348.0    309.0    251.0    222.0    273.0    339.0   \n",
      "AIVdQMXja0fmjFk_ejf7ow    114.0    105.0    172.0    280.0     83.0    134.0   \n",
      "Qyz97YBv9rf-V3QYWhkSbw      0.0      0.0      0.0      0.0      0.0      0.0   \n",
      "\n",
      "                        07/2015  08/2015  09/2015  10/2015  ...  11/2016  \\\n",
      "userID                                                      ...            \n",
      "K3WbcDlZUBxBfx8Mv-twSg    562.0    322.0    428.0    623.0  ...    474.0   \n",
      "yhHGzBppxhIRhPkWapTLJQ    410.0    243.0    654.0    209.0  ...    349.0   \n",
      "8iDsKCYEfcL4jeGKxNtPQg      0.0      0.0      0.0      0.0  ...    755.0   \n",
      "Li47SClZy_BDxLTc0mN7bQ    338.0    528.0    429.0    255.0  ...    143.0   \n",
      "lAMqEaTXdyY-pgrNTEAFjw      0.0      0.0      0.0      0.0  ...    795.0   \n",
      "oVVUY8Nh5wNqJ0qLROKRkg    306.0    223.0     44.0    280.0  ...    336.0   \n",
      "-Tf7mnYl8kygw0ZctlhfOw      0.0      5.0      0.0      0.0  ...    709.0   \n",
      "Rttu6fe4U29LzyZ8zU9RIQ    172.0    279.0    211.0    183.0  ...    131.0   \n",
      "AIVdQMXja0fmjFk_ejf7ow    258.0    178.0    154.0    177.0  ...    270.0   \n",
      "Qyz97YBv9rf-V3QYWhkSbw      0.0      0.0      0.0      0.0  ...    390.0   \n",
      "\n",
      "                        12/2016  01/2017  02/2017  03/2017  04/2017  05/2017  \\\n",
      "userID                                                                         \n",
      "K3WbcDlZUBxBfx8Mv-twSg    322.0    306.0    624.0    740.0    463.0    275.0   \n",
      "yhHGzBppxhIRhPkWapTLJQ    358.0    701.0    727.0   1032.0    920.0    263.0   \n",
      "8iDsKCYEfcL4jeGKxNtPQg    550.0    750.0    578.0    249.0    383.0    388.0   \n",
      "Li47SClZy_BDxLTc0mN7bQ    190.0    147.0    332.0    163.0    488.0    236.0   \n",
      "lAMqEaTXdyY-pgrNTEAFjw    685.0    773.0    437.0    800.0    827.0    739.0   \n",
      "oVVUY8Nh5wNqJ0qLROKRkg    343.0    338.0    315.0    338.0    188.0    317.0   \n",
      "-Tf7mnYl8kygw0ZctlhfOw    694.0    325.0    278.0    132.0    323.0    151.0   \n",
      "Rttu6fe4U29LzyZ8zU9RIQ    122.0    130.0    219.0    205.0    451.0    190.0   \n",
      "AIVdQMXja0fmjFk_ejf7ow    255.0    251.0    170.0     79.0    224.0    356.0   \n",
      "Qyz97YBv9rf-V3QYWhkSbw    469.0    671.0    457.0    310.0    472.0    583.0   \n",
      "\n",
      "                        06/2017  07/2017  08/2017  \n",
      "userID                                             \n",
      "K3WbcDlZUBxBfx8Mv-twSg    489.0    349.0    435.0  \n",
      "yhHGzBppxhIRhPkWapTLJQ     12.0    162.0   1020.0  \n",
      "8iDsKCYEfcL4jeGKxNtPQg    270.0    303.0    325.0  \n",
      "Li47SClZy_BDxLTc0mN7bQ    273.0    259.0     74.0  \n",
      "lAMqEaTXdyY-pgrNTEAFjw    928.0    653.0    690.0  \n",
      "oVVUY8Nh5wNqJ0qLROKRkg    200.0    313.0    325.0  \n",
      "-Tf7mnYl8kygw0ZctlhfOw     79.0    240.0     86.0  \n",
      "Rttu6fe4U29LzyZ8zU9RIQ    402.0    471.0    133.0  \n",
      "AIVdQMXja0fmjFk_ejf7ow    387.0    321.0    228.0  \n",
      "Qyz97YBv9rf-V3QYWhkSbw    446.0    348.0    554.0  \n",
      "\n",
      "[10 rows x 32 columns]\n"
     ]
    }
   ],
   "source": [
    "# monthly volume of actions per user over time (for top 10)\n",
    "top_ten_userIDs = top_ten_users.index\n",
    "top_ten_mask = monthly_volume_df.index.isin(top_ten_userIDs)\n",
    "top_ten_df = monthly_volume_df[top_ten_mask].reindex(top_ten_userIDs)\n",
    "\n",
    "print(top_ten_df)"
   ]
  },
  {
   "cell_type": "code",
   "execution_count": 12,
   "id": "0dfa5f17",
   "metadata": {},
   "outputs": [],
   "source": [
    "top_ten_df.to_csv('out_github.csv')"
   ]
  },
  {
   "cell_type": "code",
   "execution_count": 13,
   "id": "217b0182",
   "metadata": {},
   "outputs": [
    {
     "name": "stdout",
     "output_type": "stream",
     "text": [
      "                        01/2016  02/2016  03/2016  04/2016  05/2016  06/2016  \\\n",
      "userID                                                                         \n",
      "5Nmia2cw5HiUKpI4Y7QkdQ     24.0     11.0      3.0      1.0     15.0      6.0   \n",
      "_DHICgWntHlPx4gWdGpnRQ      3.0      0.0      0.0      0.0      0.0      0.0   \n",
      "YKzvufnF_N6khw7BOhE8hg      0.0      0.0      0.0      0.0      0.0      0.0   \n",
      "HxIxl_gs5e--6UT_EHq8lw      0.0      0.0      0.0      0.0      0.0      0.0   \n",
      "5oEbT1dj6KcoJuBz966PGg      0.0      1.0      0.0      0.0      0.0      0.0   \n",
      "...                         ...      ...      ...      ...      ...      ...   \n",
      "OEMwqXV03v5P-Tj6ddQjGA      0.0      0.0      0.0      0.0      0.0      0.0   \n",
      "D_oktQK_m98_zagOWmu-SA      0.0      0.0      0.0      0.0      0.0      0.0   \n",
      "vBAhgorJ8lCtdg88ABSgVA      0.0      0.0      0.0      0.0      0.0      0.0   \n",
      "bcm8Vn2lzYQSVktN0dlIig      0.0      0.0      0.0      0.0      0.0      0.0   \n",
      "7bScg5Bi1Q7ed5ezvKzMtA      0.0      0.0      0.0      0.0      0.0      0.0   \n",
      "\n",
      "                        07/2016  08/2016  09/2016  10/2016  11/2016  12/2016  \n",
      "userID                                                                        \n",
      "5Nmia2cw5HiUKpI4Y7QkdQ      0.0      0.0      0.0     39.0     41.0     54.0  \n",
      "_DHICgWntHlPx4gWdGpnRQ      0.0      0.0      0.0      0.0      0.0      1.0  \n",
      "YKzvufnF_N6khw7BOhE8hg      0.0      0.0      0.0      0.0      0.0      0.0  \n",
      "HxIxl_gs5e--6UT_EHq8lw      0.0      0.0      0.0      0.0      0.0      0.0  \n",
      "5oEbT1dj6KcoJuBz966PGg      0.0      0.0      0.0      0.0      0.0      1.0  \n",
      "...                         ...      ...      ...      ...      ...      ...  \n",
      "OEMwqXV03v5P-Tj6ddQjGA      0.0      0.0      0.0      0.0      0.0      0.0  \n",
      "D_oktQK_m98_zagOWmu-SA      0.0      0.0      0.0      0.0      0.0      0.0  \n",
      "vBAhgorJ8lCtdg88ABSgVA      0.0      0.0      0.0      0.0      0.0      0.0  \n",
      "bcm8Vn2lzYQSVktN0dlIig      0.0      0.0      0.0      0.0      0.0      0.0  \n",
      "7bScg5Bi1Q7ed5ezvKzMtA      0.0      0.0      0.0      0.0      0.0      0.0  \n",
      "\n",
      "[106518 rows x 12 columns]\n"
     ]
    }
   ],
   "source": [
    "# monthly volume of actions per user in 2016\n",
    "monthly_volume_2016_df = monthly_volume_df.loc[:, '01/2016':'12/2016']\n",
    "print(monthly_volume_2016_df)"
   ]
  },
  {
   "cell_type": "code",
   "execution_count": 14,
   "id": "f0de5122",
   "metadata": {},
   "outputs": [
    {
     "name": "stdout",
     "output_type": "stream",
     "text": [
      "                   userID  01/2016  02/2016  03/2016  04/2016  05/2016  \\\n",
      "0  8iDsKCYEfcL4jeGKxNtPQg     78.0   1292.0    745.0    738.0   1183.0   \n",
      "1  K3WbcDlZUBxBfx8Mv-twSg    395.0    600.0    645.0    721.0    370.0   \n",
      "2  -Tf7mnYl8kygw0ZctlhfOw    100.0    468.0    357.0    195.0    522.0   \n",
      "3  M5f7BOOVxgnr-XdzMo8bGQ    523.0    196.0    402.0    429.0    285.0   \n",
      "4  yhHGzBppxhIRhPkWapTLJQ    125.0    365.0    294.0    336.0    508.0   \n",
      "\n",
      "   06/2016  07/2016  08/2016  09/2016  10/2016  11/2016  12/2016  \n",
      "0    731.0    888.0   1188.0   1090.0    719.0    755.0    550.0  \n",
      "1    648.0    344.0    424.0    718.0    410.0    474.0    322.0  \n",
      "2    393.0    442.0    597.0    634.0    508.0    709.0    694.0  \n",
      "3    379.0    257.0    412.0    461.0    234.0    261.0    261.0  \n",
      "4    265.0    159.0    311.0    570.0    417.0    349.0    358.0  \n"
     ]
    }
   ],
   "source": [
    "top_five_2016_userIDs = monthly_volume_2016_df.sum(axis=1).sort_values(ascending=False).head(5).index\n",
    "top_five_mask = monthly_volume_2016_df.index.isin(top_five_2016_userIDs)\n",
    "top_five_2016_df = monthly_volume_2016_df[top_five_mask].reindex(index=top_five_2016_userIDs).reset_index()\n",
    "\n",
    "print(top_five_2016_df)"
   ]
  },
  {
   "cell_type": "code",
   "execution_count": 15,
   "id": "c03cf504",
   "metadata": {},
   "outputs": [
    {
     "data": {
      "image/png": "[encoded data removed]",
      "text/plain": [
       "<Figure size 432x288 with 1 Axes>"
      ]
     },
     "metadata": {
      "needs_background": "light"
     },
     "output_type": "display_data"
    }
   ],
   "source": [
    "top_five_2016_df.apply(lambda row: plt.plot(\n",
    "    row.index[1:].to_list(), row.values[1:], label=row.values[0]), axis=1)\n",
    "   \n",
    "plt.xlabel('Month')\n",
    "plt.xticks(rotation=90)\n",
    "plt.ylabel('Actions')\n",
    "plt.legend(loc='center left', bbox_to_anchor=(1, 0.5))\n",
    "plt.show()"
   ]
  }
 ],
 "metadata": {
  "kernelspec": {
   "display_name": "Python 3 (ipykernel)",
   "language": "python",
   "name": "python3"
  },
  "language_info": {
   "codemirror_mode": {
    "name": "ipython",
    "version": 3
   },
   "file_extension": ".py",
   "mimetype": "text/x-python",
   "name": "python",
   "nbconvert_exporter": "python",
   "pygments_lexer": "ipython3",
   "version": "3.8.8"
  }
 },
 "nbformat": 4,
 "nbformat_minor": 5
}
